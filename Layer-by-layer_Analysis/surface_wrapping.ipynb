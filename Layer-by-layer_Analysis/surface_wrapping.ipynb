{
 "cells": [
  {
   "cell_type": "code",
   "execution_count": 1,
   "id": "6f4d4722",
   "metadata": {},
   "outputs": [],
   "source": [
    "import slicer\n",
    "\n",
    "# Load the 3D TIFF file\n",
    "file_name = ''\n",
    "tif_file_path = ''\n",
    "volume_node = slicer.util.loadVolume(tif_file_path+file_name)"
   ]
  },
  {
   "cell_type": "code",
   "execution_count": 2,
   "id": "500154b6",
   "metadata": {},
   "outputs": [],
   "source": [
    "# Segment outer and inner ranges using segment editor\n",
    "segmentationNode = slicer.mrmlScene.AddNewNodeByClass(\"vtkMRMLSegmentationNode\")\n",
    "segmentationNode.CreateDefaultDisplayNodes()  # Only needed for display\n",
    "segmentationNode.SetReferenceImageGeometryParameterFromVolumeNode(volume_node)\n",
    "addedSegmentID = segmentationNode.GetSegmentation().AddEmptySegment(\"outer range\")\n",
    "\n",
    "segmentEditorWidget = slicer.qMRMLSegmentEditorWidget()\n",
    "segmentEditorWidget.setMRMLScene(slicer.mrmlScene)\n",
    "segmentEditorNode = slicer.mrmlScene.AddNewNodeByClass(\"vtkMRMLSegmentEditorNode\")\n",
    "segmentEditorWidget.setMRMLSegmentEditorNode(segmentEditorNode)\n",
    "segmentEditorWidget.setSegmentationNode(segmentationNode)\n",
    "segmentEditorWidget.setMasterVolumeNode(volume_node)\n",
    "\n",
    "segmentEditorWidget.setActiveEffectByName(\"Threshold\")\n",
    "effect = segmentEditorWidget.activeEffect()\n",
    "effect.setParameter(\"MinimumThreshold\", \"150\")\n",
    "effect.setParameter(\"MaximumThreshold\", \"1000\")\n",
    "effect.self().onApply()"
   ]
  },
  {
   "cell_type": "code",
   "execution_count": 3,
   "id": "3045b0d3",
   "metadata": {},
   "outputs": [],
   "source": [
    "wrap_solidify_module = slicer.util.getModule('SegmentEditorWrapSolidify')\n",
    "# IMPORTANT: check if \"surface wrapping solidy\" module has been installed, download it in the extension!!!"
   ]
  },
  {
   "cell_type": "code",
   "execution_count": 5,
   "id": "3b116f78",
   "metadata": {},
   "outputs": [],
   "source": [
    "# Apply the Wrap Solidify effect\n",
    "segmentEditorWidget.setActiveEffectByName('Wrap Solidify')\n",
    "wrap_solidify_effect = segmentEditorWidget.activeEffect()\n",
    "# wrap_solidify_effect.setParameter(\"InputSegmentation\", segmentationNode.GetID())\n",
    "wrap_solidify_effect.setParameter(\"region\", \"largestCavity\")\n",
    "wrap_solidify_effect.setParameter(\"smoothingFactor\", 1.0)\n",
    "wrap_solidify_effect.setParameter(\"shrinkwrapIterations\", 1.0)\n",
    "wrap_solidify_effect.setParameter(\"remeshOversampling\", 1.0)\n",
    "# wrap_solidify_effect.setParameter(\"OutputSegmentation\", segmentationNode.GetID())\n",
    "wrap_solidify_effect.self().onApply()"
   ]
  },
  {
   "cell_type": "markdown",
   "id": "545cc239",
   "metadata": {},
   "source": [
    "Next step: Manually trim the mask using the scissors tool in the Segment Editor to confine it to the lesion region. Then, export the mask for storage."
   ]
  }
 ],
 "metadata": {
  "kernelspec": {
   "display_name": "Slicer 5.6",
   "language": "python",
   "name": "slicer-5.6"
  },
  "language_info": {
   "file_extension": ".py",
   "mimetype": "text/x-python",
   "name": "python",
   "version": "3.9.10"
  }
 },
 "nbformat": 4,
 "nbformat_minor": 5
}
